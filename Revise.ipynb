{
 "cells": [
  {
   "cell_type": "code",
   "execution_count": 105,
   "metadata": {},
   "outputs": [
    {
     "data": {
      "image/png": "[encoded data removed]",
      "text/plain": [
       "<Figure size 432x288 with 1 Axes>"
      ]
     },
     "metadata": {
      "needs_background": "light"
     },
     "output_type": "display_data"
    }
   ],
   "source": [
    "import matplotlib.pyplot as plt\n",
    "from matplotlib import style\n",
    "import numpy as np\n",
    "fig=plt.figure()\n",
    "ax=plt.subplot2grid((1,1),(0,0))\n",
    "years=[2002,2004,2006,2008,2010,2012,2014,2016,2018,2020]\n",
    "prices=[1000,1400,1500,1200,1950,2000,1700,1990,2200,1500]\n",
    "bins=[500,600,700,800,900,1000,12000,2000,1200,2300]\n",
    "bins=np.array(bins)\n",
    "#Simple Graph----------------------\n",
    "# ax.plot(years,prices,label='Prices',color='g',alpha=0.5,linewidth=2)\n",
    "# ax.legend()\n",
    "# plt.show()\n",
    "#Scatter Graph----------------------------\n",
    "# ax.scatter(years,prices,label='Years',alpha=0.5,linewidth=20)\n",
    "# ax.legend()\n",
    "# plt.show()\n",
    "#Pie Graph--------------------------\n",
    "# slices=[2,6,9]\n",
    "# act=['years','prices','profit']\n",
    "# color=['r','g','b']\n",
    "# ax.pie(slices,labels=act,colors=color,autopct='%1.0f%%',explode=(0,0.1,0),shadow=True)\n",
    "# plt.show()\n",
    "#Hist Graph\n",
    "# ax.hist(prices,bins,histtype='bar',rwidth=0.8,color='g',alpha=0.5,width=50,label='Hist')\n",
    "# ax.legend()\n",
    "# plt.show()\n",
    "#stackplot Graph\n",
    "# ax.stackplot(years,years,prices,bins,alpha=0.5,colors=['r','g','b'])\n",
    "# plt.show()\n",
    "#Bar Graph\n",
    "# ax.bar(years,prices,label='Bar',alpha=0.5,width=1.5,color='c')\n",
    "# ax.legend()\n",
    "# plt.show()\n",
    "#fill_between Graph\n",
    "ax.fill_between(years,bins,5000,where=(bins>5000),color='g')\n",
    "ax.fill_between(years,bins,5000,where=(bins<5000),color='r')\n",
    "ax.legend()\n",
    "plt.show()\n",
    "#Extra_Features\n",
    "ax.fill_between(years,prices)\n",
    "# ax.fill_between(years,prices,1500,where=(bins<1500),facecolor='r',alpha=0.5)\n",
    "ax.axhline(1500,2002.5,linewidth=5,color='b')\n",
    "plt.show()"
   ]
  },
  {
   "cell_type": "code",
   "execution_count": null,
   "metadata": {},
   "outputs": [],
   "source": []
  }
 ],
 "metadata": {
  "kernelspec": {
   "display_name": "Python 3",
   "language": "python",
   "name": "python3"
  },
  "language_info": {
   "codemirror_mode": {
    "name": "ipython",
    "version": 3
   },
   "file_extension": ".py",
   "mimetype": "text/x-python",
   "name": "python",
   "nbconvert_exporter": "python",
   "pygments_lexer": "ipython3",
   "version": "3.6.8"
  }
 },
 "nbformat": 4,
 "nbformat_minor": 2
}

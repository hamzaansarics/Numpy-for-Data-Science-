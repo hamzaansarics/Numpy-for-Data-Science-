{
 "cells": [
  {
   "cell_type": "code",
   "execution_count": 43,
   "metadata": {},
   "outputs": [
    {
     "name": "stdout",
     "output_type": "stream",
     "text": [
      "10\n",
      "-5\n",
      "[ 3 10  3]\n",
      "[ 3 10 -3  4  3]\n",
      "17\n",
      "[-0.2  2.4  1.2]\n",
      "[-0.2  2.4  1.2]\n",
      "3.6307330144506937\n",
      "[2.3570226  4.49691252 0.94280904 0.47140452 2.1602469 ]\n",
      "[2.92574777 4.67332858 2.4       ]\n",
      "[-2  1  4  5 15 15 10  7  4  7 11 14 16 14 17]\n",
      "[  -2   -6  -18  -18 -180    0    0    0    0    0    0    0    0    0\n",
      "    0]\n",
      "13.18222222222222\n",
      "6.5600000000000005\n",
      "[ 8.56 21.84  5.76]\n",
      "[ 5.55555556 20.22222222  0.88888889  0.22222222  4.66666667]\n"
     ]
    }
   ],
   "source": [
    "import cv2\n",
    "import numpy as np\n",
    "import matplotlib.pyplot as plt\n",
    "img=cv2.imread('D:\\\\girl.jpg',0)\n",
    "i=np.array([[-2 ,3 , 3],[ 1 ,10 , 0],[-5 ,-3, -3],[ 3 , 4, 3],[ 2 ,-2,  3]])\n",
    "print(i.max()) # Find overall max value in matrix\n",
    "print(i.min()) # Find overall min value in matrix\n",
    "print(np.max(i,axis=0)) # Find Maximum value in each colum\n",
    "print(np.max(i,axis=1)) # Find Maximum value in each row \n",
    "S=i.flatten() #making one dimension to array\n",
    "print(i.sum()) # Finding sum of whole array\n",
    "print(i.mean(axis=0)) # finding averge of all colums\n",
    "print(i.sum(axis=0)/5) # first adding all the clms then finding its averge\n",
    "print(i.std())\n",
    "print(i.std(axis=1))\n",
    "print(i.std(axis=0))\n",
    "print(i.cumsum()) # Print as fibonic series\n",
    "print(i.cumprod()) #print as fibonic but with multiplication\n",
    "print(i.var())\n",
    "s=np.array([8,4,1,2,6])\n",
    "m=s.argsort()\n",
    "print(s.var())\n",
    "print(i.var(axis=0))\n",
    "print(i.var(axis=1))\n",
    "A=np.linspace(1,9,5)\n",
    "B=np.linspace(5,13,5)\n",
    "# print(A)\n",
    "# print(B)\n",
    "np.vdot(A,B)\n",
    "# inside working of vdot{mult=A*B => np.sum(mult)=265}\n",
    "np.dot(A,B)                       # Same output , np.vdot()=np.dot()=np.inner()\n",
    "# inside working of dot{mult=A*B => np.sum(mult)=265}\n",
    "print(np.inner(A,B))\n",
    "print(np.outer(A,B))\n",
    "# inside working of dot{mult=A*B => np.sum(mult)=265}\n",
    "np.average(A,weights=B)\n",
    "# inside working of average{mult=A*B =>np.sum(mult)/np.sum(B)}\n",
    "# Same in this senero print(np.mean(A))=print(np.average(A)=print(np.median(B)))\n",
    "print(np.median(B))\n",
    "# inside working of average{print(np.sum(B)/5)}\n",
    "np.nonzero(A) # give all indexis where non zero elements exists\n",
    "s=np.array([[1,3],[2,5],[2,1]])\n",
    "# eigval,eigvec=np.linalg.eig(s)\n",
    "o=np.diff(s) # 3-1,5-2,1-2 works as"
   ]
  },
  {
   "cell_type": "code",
   "execution_count": null,
   "metadata": {},
   "outputs": [],
   "source": []
  },
  {
   "cell_type": "code",
   "execution_count": null,
   "metadata": {},
   "outputs": [],
   "source": []
  }
 ],
 "metadata": {
  "kernelspec": {
   "display_name": "Python 3",
   "language": "python",
   "name": "python3"
  },
  "language_info": {
   "codemirror_mode": {
    "name": "ipython",
    "version": 3
   },
   "file_extension": ".py",
   "mimetype": "text/x-python",
   "name": "python",
   "nbconvert_exporter": "python",
   "pygments_lexer": "ipython3",
   "version": "3.6.8"
  }
 },
 "nbformat": 4,
 "nbformat_minor": 2
}

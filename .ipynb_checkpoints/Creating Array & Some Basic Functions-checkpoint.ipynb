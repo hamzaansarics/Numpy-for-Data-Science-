{
 "cells": [
  {
   "cell_type": "code",
   "execution_count": 98,
   "metadata": {
    "scrolled": true
   },
   "outputs": [
    {
     "name": "stdout",
     "output_type": "stream",
     "text": [
      "float64\n",
      "float64\n",
      "24\n",
      "8\n",
      "192\n",
      "(4, 6)\n",
      "[[1. 2. 3. 4. 7. 2.]\n",
      " [6. 7. 4. 2. 8. 9.]\n",
      " [1. 2. 3. 4. 7. 2.]\n",
      " [6. 7. 4. 2. 8. 9.]]\n",
      "2\n"
     ]
    }
   ],
   "source": [
    "import numpy as np\n",
    "array=np.ones((1000,5000),np.uint64)\n",
    "list1=[1,2,4,5,6]\n",
    "arr=np.array(list1)\n",
    "arr1=np.array([[1,2,3,4,7,2],[6,7,4,2,8,9],[1,2,3,4,7,2],[6,7,4,2,8,9]],np.float64)\n",
    "print(arr1.dtype) or print(arr1.dtype.name) # checking Data Type\n",
    "print(arr1.size) # checking total Element in Arrays\n",
    "print(arr1.itemsize) # Size of Each Element\n",
    "print(arr1.size*arr1.itemsize) #checking total size of array in memory(byte)\n",
    "print(arr1.shape) # checkin shape(rows,colums)\n",
    "print(arr1) #shwoing array with values\n",
    "print(arr1.ndim) #dimensions(rows and colums avail=2,if single rows or colums=1)\n"
   ]
  },
  {
   "cell_type": "code",
   "execution_count": null,
   "metadata": {},
   "outputs": [],
   "source": []
  }
 ],
 "metadata": {
  "kernelspec": {
   "display_name": "Python 3",
   "language": "python",
   "name": "python3"
  },
  "language_info": {
   "codemirror_mode": {
    "name": "ipython",
    "version": 3
   },
   "file_extension": ".py",
   "mimetype": "text/x-python",
   "name": "python",
   "nbconvert_exporter": "python",
   "pygments_lexer": "ipython3",
   "version": "3.6.8"
  }
 },
 "nbformat": 4,
 "nbformat_minor": 2
}

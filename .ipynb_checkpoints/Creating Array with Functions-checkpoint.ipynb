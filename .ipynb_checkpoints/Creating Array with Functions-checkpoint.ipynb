{
 "cells": [
  {
   "cell_type": "code",
   "execution_count": 66,
   "metadata": {},
   "outputs": [],
   "source": [
    "import numpy as np\n",
    "import matplotlib.pyplot as plt\n",
    "import cv2\n",
    "img=cv2.imread('D:\\\\girl.jpg',1)\n",
    "img=cv2.cvtColor(img,cv2.COLOR_BGR2RGB)\n",
    "my_zeros=np.array([[0,0],[0,0]]) #defalut datatype is int32\n",
    "builten_zeros=np.zeros((10,10)) #its default datatype is float64\n",
    "builten_ones=np.ones((10,10),dtype=np.int32)\n",
    "ind=np.indices((5,2,2),np.float64) #they create three dimnsion img\n",
    "rnd=np.random.random((5,3))\n",
    "ran=np.random.uniform(2,10,(20,20))\n",
    "ey=np.eye(20,20) #create a identity matrix\n",
    "idt=np.identity(10,dtype=np.float32)\n",
    "emp=np.empty(10)\n",
    "# print(ind.ndim)\n",
    "# plt.imshow(ind,cmap='gray')\n",
    "# plt.show()"
   ]
  },
  {
   "cell_type": "code",
   "execution_count": null,
   "metadata": {},
   "outputs": [],
   "source": []
  }
 ],
 "metadata": {
  "kernelspec": {
   "display_name": "Python 3",
   "language": "python",
   "name": "python3"
  },
  "language_info": {
   "codemirror_mode": {
    "name": "ipython",
    "version": 3
   },
   "file_extension": ".py",
   "mimetype": "text/x-python",
   "name": "python",
   "nbconvert_exporter": "python",
   "pygments_lexer": "ipython3",
   "version": "3.6.8"
  }
 },
 "nbformat": 4,
 "nbformat_minor": 2
}

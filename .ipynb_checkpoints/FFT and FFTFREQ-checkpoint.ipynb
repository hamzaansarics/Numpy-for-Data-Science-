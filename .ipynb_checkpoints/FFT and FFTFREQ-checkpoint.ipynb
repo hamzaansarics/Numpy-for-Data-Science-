{
 "cells": [
  {
   "cell_type": "code",
   "execution_count": 28,
   "metadata": {},
   "outputs": [
    {
     "name": "stdout",
     "output_type": "stream",
     "text": [
      "['[[\"[22,47,66][33,78,99][66,44,18][93,74,22][47,66,33][78,99,66]\"], [\"[22,47,66][33,78,99][66,44,18][93,74,22][47,66,33][78,99,66]\"]]']\n"
     ]
    }
   ],
   "source": [
    "import numpy as np\n",
    "from numpy.fft import fft,fftfreq,ifft\n",
    "import matplotlib.pyplot as plt\n",
    "import cv2,random\n",
    "img=cv2.imread('D:\\\\girl.jpg')\n",
    "img1=cv2.cvtColor(img,cv2.COLOR_BGR2RGB)\n",
    "EM=[]\n",
    "va=0\n",
    "cm=0\n",
    "dt=''\n",
    "br=0\n",
    "MV=''\n",
    "CL=[]\n",
    "ls=[22,47,66,33,78,99,66,44,18,93,74,22,47,66,33,78,99,66,22,47,66,33,78,99,66,44,18,93,74,22,47,66,33,78,99,66]\n",
    "for i in ls:\n",
    "    va+=1\n",
    "    cm+=1\n",
    "    dt+=str(i)\n",
    "    if cm!=3:\n",
    "        dt+=','\n",
    "    if cm==3:\n",
    "        cm=0\n",
    "    if va==3:\n",
    "        CL.append(dt)\n",
    "        MV+=str(CL)\n",
    "        CL=[]\n",
    "        br+=1\n",
    "        va=0\n",
    "        dt=''\n",
    "    if  br==6:\n",
    "        EM.append([MV])\n",
    "        MV=''\n",
    "        br=0\n",
    "ML=[]\n",
    "w=''\n",
    "for i in str(EM):\n",
    "     if i!=\"\\'\":\n",
    "           w+=i\n",
    "ML.append(w)\n",
    "print(ML)"
   ]
  },
  {
   "cell_type": "code",
   "execution_count": null,
   "metadata": {},
   "outputs": [],
   "source": []
  }
 ],
 "metadata": {
  "kernelspec": {
   "display_name": "Python 3",
   "language": "python",
   "name": "python3"
  },
  "language_info": {
   "codemirror_mode": {
    "name": "ipython",
    "version": 3
   },
   "file_extension": ".py",
   "mimetype": "text/x-python",
   "name": "python",
   "nbconvert_exporter": "python",
   "pygments_lexer": "ipython3",
   "version": "3.6.8"
  }
 },
 "nbformat": 4,
 "nbformat_minor": 2
}

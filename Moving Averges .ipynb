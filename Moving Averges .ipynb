{
 "cells": [
  {
   "cell_type": "code",
   "execution_count": 5,
   "metadata": {},
   "outputs": [
    {
     "name": "stdout",
     "output_type": "stream",
     "text": [
      "8 3\n"
     ]
    },
    {
     "data": {
      "image/png": "[encoded data removed]",
      "text/plain": [
       "<Figure size 432x288 with 1 Axes>"
      ]
     },
     "metadata": {
      "needs_background": "light"
     },
     "output_type": "display_data"
    }
   ],
   "source": [
    "import matplotlib.pyplot as plt\n",
    "import numpy as np\n",
    "import matplotlib.animation as animation\n",
    "import matplotlib.ticker as mticker\n",
    "ax=plt.subplot2grid((1,1),(0,0))\n",
    "date=[2002,2004,2006,2008,2010,2012,2014,2016]\n",
    "closep=[1000,500,70,300,100,10000,1300,900]\n",
    "date=np.array(date)\n",
    "closep=np.array(closep)\n",
    "MA1=10\n",
    "MA2=30\n",
    "def moving_averge(values,window):\n",
    "    weight=np.repeat(1.0,window)/window\n",
    "    sams=np.convolve(values,weight,'valid')\n",
    "    return sams\n",
    "ma1=moving_averge(closep,MA1)\n",
    "ma2=moving_averge(closep,MA2)\n",
    "start=len(date[5:])\n",
    "print(len(date),len(ma1))\n",
    "plt.plot(closep[-start:],ma1[-start:])\n",
    "plt.plot(date,closep)\n",
    "ax.yaxis.set_major_locator(mticker.MaxNLocator(nbins=12))\n",
    "# ax.xaxis.set_major_locator(mticker.MaxNLocator(nbins=2))"
   ]
  },
  {
   "cell_type": "code",
   "execution_count": null,
   "metadata": {},
   "outputs": [],
   "source": []
  }
 ],
 "metadata": {
  "kernelspec": {
   "display_name": "Python 3",
   "language": "python",
   "name": "python3"
  },
  "language_info": {
   "codemirror_mode": {
    "name": "ipython",
    "version": 3
   },
   "file_extension": ".py",
   "mimetype": "text/x-python",
   "name": "python",
   "nbconvert_exporter": "python",
   "pygments_lexer": "ipython3",
   "version": "3.7.3"
  }
 },
 "nbformat": 4,
 "nbformat_minor": 2
}

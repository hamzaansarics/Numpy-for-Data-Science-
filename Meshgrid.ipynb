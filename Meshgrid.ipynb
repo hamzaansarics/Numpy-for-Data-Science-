{
 "cells": [
  {
   "cell_type": "code",
   "execution_count": 106,
   "metadata": {},
   "outputs": [
    {
     "name": "stdout",
     "output_type": "stream",
     "text": [
      "True\n"
     ]
    }
   ],
   "source": [
    "import numpy as np\n",
    "import matplotlib.pyplot as plt\n",
    "x=np.linspace(-4,4,9)\n",
    "y=np.linspace(-5,5,11)\n",
    "xos=np.array([[2,4,6]])\n",
    "xx,yy=np.meshgrid(x,y)\n",
    "ellips=xx**2.0+4.0*yy**2\n",
    "# plt.contourf(xx,yy,ellips,cmap='jet')\n",
    "# plt.colorbar()\n",
    "# plt.show()\n",
    "#Transpose\n",
    "xx1,yy1=np.meshgrid(x,y,indexing='ij')\n",
    "el=np.zeros((9,11))\n",
    "# plt.contourf(xx1,yy1,xx1,cmap='jet')\n",
    "# plt.colorbar()\n",
    "# plt.show()\n",
    "#Checking Transpose\n",
    "print(np.all(xx==xx1.T))"
   ]
  },
  {
   "cell_type": "code",
   "execution_count": null,
   "metadata": {},
   "outputs": [],
   "source": []
  },
  {
   "cell_type": "code",
   "execution_count": null,
   "metadata": {},
   "outputs": [],
   "source": []
  },
  {
   "cell_type": "code",
   "execution_count": null,
   "metadata": {},
   "outputs": [],
   "source": []
  }
 ],
 "metadata": {
  "kernelspec": {
   "display_name": "Python 3",
   "language": "python",
   "name": "python3"
  },
  "language_info": {
   "codemirror_mode": {
    "name": "ipython",
    "version": 3
   },
   "file_extension": ".py",
   "mimetype": "text/x-python",
   "name": "python",
   "nbconvert_exporter": "python",
   "pygments_lexer": "ipython3",
   "version": "3.7.3"
  }
 },
 "nbformat": 4,
 "nbformat_minor": 2
}

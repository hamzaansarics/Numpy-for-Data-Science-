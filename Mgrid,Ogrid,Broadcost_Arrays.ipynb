{
 "cells": [
  {
   "cell_type": "code",
   "execution_count": 1,
   "metadata": {},
   "outputs": [
    {
     "data": {
      "text/plain": [
       "2"
      ]
     },
     "execution_count": 1,
     "metadata": {},
     "output_type": "execute_result"
    }
   ],
   "source": [
    "import matplotlib.pyplot as plt\n",
    "import numpy as np\n",
    "x=np.linspace(-5,5,12)\n",
    "y=np.linspace(-7,3,12)\n",
    "xx,yy=np.meshgrid(x,y)\n",
    "# xx1,yy1=np.meshgrid(x,y,sparse=True)\n",
    "xm,ym=np.ogrid[-5:5:2,-5:5:2]\n",
    "xm1,ym1=np.ogrid[-5:5:2j,-5:5:2j]\n",
    "xm2,ym2=np.mgrid[-5:5:2,-5:5:2]\n",
    "xm3,ym3=np.mgrid[-5:5:2j,-5:5:2j]\n",
    "xg,yg=np.broadcast_arrays(xm2,ym2)\n",
    "xg.ndim"
   ]
  },
  {
   "cell_type": "code",
   "execution_count": null,
   "metadata": {},
   "outputs": [],
   "source": []
  }
 ],
 "metadata": {
  "kernelspec": {
   "display_name": "Python 3",
   "language": "python",
   "name": "python3"
  },
  "language_info": {
   "codemirror_mode": {
    "name": "ipython",
    "version": 3
   },
   "file_extension": ".py",
   "mimetype": "text/x-python",
   "name": "python",
   "nbconvert_exporter": "python",
   "pygments_lexer": "ipython3",
   "version": "3.7.3"
  }
 },
 "nbformat": 4,
 "nbformat_minor": 2
}
